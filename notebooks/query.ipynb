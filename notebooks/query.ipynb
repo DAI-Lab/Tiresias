{
 "cells": [
  {
   "cell_type": "code",
   "execution_count": 1,
   "metadata": {},
   "outputs": [],
   "source": [
    "import requests\n",
    "from json import loads, dumps"
   ]
  },
  {
   "cell_type": "markdown",
   "metadata": {},
   "source": [
    "# Basic Queries\n",
    "Here's a simple query for the average CPU usage."
   ]
  },
  {
   "cell_type": "code",
   "execution_count": 2,
   "metadata": {},
   "outputs": [],
   "source": [
    "response = requests.get(\"http://127.0.0.1:3000/query\", params={\n",
    "    \"query\": dumps({\n",
    "        \"type\": \"basic\",\n",
    "        \"epsilon\": 1.0,\n",
    "        \"featurizer\": \"SELECT AVG(cpu_percent) FROM device_info.cpu_usage\",\n",
    "        \"aggregator\": \"mean\",\n",
    "    })\n",
    "})\n",
    "qid1 = response.text"
   ]
  },
  {
   "cell_type": "code",
   "execution_count": 12,
   "metadata": {},
   "outputs": [
    {
     "data": {
      "text/plain": [
       "{'type': 'basic',\n",
       " 'epsilon': 1.0,\n",
       " 'featurizer': 'SELECT AVG(cpu_percent) FROM device_info.cpu_usage',\n",
       " 'aggregator': 'mean',\n",
       " 'id': 'eb9ca8d5-2387-43bc-96f9-f67e3d26effd',\n",
       " 'status': 'COMPLETE',\n",
       " 'count': 13,\n",
       " 'result': 18.3}"
      ]
     },
     "execution_count": 12,
     "metadata": {},
     "output_type": "execute_result"
    }
   ],
   "source": [
    "loads(requests.get(\"http://127.0.0.1:3000/query/%s\" % qid1).text)"
   ]
  },
  {
   "cell_type": "markdown",
   "metadata": {},
   "source": [
    "We can take advantage of the full expressive power of SQL and compute slightly more complex statistics."
   ]
  },
  {
   "cell_type": "code",
   "execution_count": 6,
   "metadata": {},
   "outputs": [],
   "source": [
    "response = requests.get(\"http://127.0.0.1:3000/query\", params={\n",
    "    \"query\": dumps({\n",
    "        \"type\": \"basic\",\n",
    "        \"epsilon\": 1.0,\n",
    "        \"featurizer\": \"SELECT AVG(cpu_count*cpu_percent) FROM device_info.cpu_usage\",\n",
    "        \"aggregator\": \"mean\",\n",
    "    })\n",
    "})\n",
    "qid3 = response.text"
   ]
  },
  {
   "cell_type": "code",
   "execution_count": 14,
   "metadata": {},
   "outputs": [
    {
     "data": {
      "text/plain": [
       "{'type': 'basic',\n",
       " 'epsilon': 1.0,\n",
       " 'featurizer': 'SELECT AVG(cpu_count*cpu_percent) FROM device_info.cpu_usage',\n",
       " 'aggregator': 'mean',\n",
       " 'id': '13ab5301-5137-4ff4-8eea-012396c5518e',\n",
       " 'status': 'RUNNING',\n",
       " 'count': 13,\n",
       " 'result': 73.2}"
      ]
     },
     "execution_count": 14,
     "metadata": {},
     "output_type": "execute_result"
    }
   ],
   "source": [
    "loads(requests.get(\"http://127.0.0.1:3000/query/%s\" % qid3).text)"
   ]
  },
  {
   "cell_type": "markdown",
   "metadata": {},
   "source": [
    "# Generalized Queries\n",
    "We can also compute the above value (cpu_count * cpu_percent) using a generalized query. Essentially, we'll move the heavy lifting over to Python (as opposed to SQL) and use a different mechanism to produce the differentially private result."
   ]
  },
  {
   "cell_type": "code",
   "execution_count": 8,
   "metadata": {},
   "outputs": [],
   "source": [
    "sampler = \"\"\"\n",
    "result = 0.0\n",
    "for x in inputs:\n",
    "    result += x[\"cpu_percent\"] * x[\"cpu_count\"]\n",
    "outputs[\"x\"] = result\n",
    "\"\"\".strip()\n",
    "response = requests.get(\"http://127.0.0.1:3000/query\", params={\n",
    "    \"query\": dumps({\n",
    "        \"type\": \"generalized\",\n",
    "        \"epsilon\": 1.0,\n",
    "        \"featurizer\": \"SELECT cpu_count, cpu_percent FROM device_info.cpu_usage\",\n",
    "        \"sampler\": sampler,\n",
    "        \"aggregator\": \"median\",\n",
    "    })\n",
    "})\n",
    "qid4 = response.text"
   ]
  },
  {
   "cell_type": "code",
   "execution_count": 15,
   "metadata": {},
   "outputs": [
    {
     "data": {
      "text/plain": [
       "{'type': 'generalized',\n",
       " 'epsilon': 1.0,\n",
       " 'featurizer': 'SELECT cpu_count, cpu_percent FROM device_info.cpu_usage',\n",
       " 'sampler': 'result = 0.0\\nfor x in inputs:\\n    result += x[\"cpu_percent\"] * x[\"cpu_count\"]\\noutputs[\"x\"] = result',\n",
       " 'aggregator': 'median',\n",
       " 'id': 'd08861fe-5a1c-4bc1-b5a6-388b8aef9a0c',\n",
       " 'status': 'COMPLETE',\n",
       " 'count': 13,\n",
       " 'result': 225.66549283241932}"
      ]
     },
     "execution_count": 15,
     "metadata": {},
     "output_type": "execute_result"
    }
   ],
   "source": [
    "loads(requests.get(\"http://127.0.0.1:3000/query/%s\" % qid4).text)"
   ]
  },
  {
   "cell_type": "markdown",
   "metadata": {},
   "source": [
    "This general approach can also be used to implement more sophisticated queries. For example, the following query fits a linear regression model to predict cpu usage from the timestamp - yes, this is obviously a somewhat farcical example - and returns the model coefficients."
   ]
  },
  {
   "cell_type": "code",
   "execution_count": 10,
   "metadata": {},
   "outputs": [],
   "source": [
    "sampler = \"\"\"\n",
    "import pandas as pd\n",
    "import statsmodels.formula.api as sm\n",
    "\n",
    "df = pd.DataFrame(inputs)\n",
    "result = sm.ols(formula=\"cpu_percent ~ timestamp\", data=df).fit()\n",
    "\n",
    "outputs[\"x\"] = result.params[\"timestamp\"]\n",
    "\"\"\".strip()\n",
    "response = requests.get(\"http://127.0.0.1:3000/query\", params={\n",
    "    \"query\": dumps({\n",
    "        \"type\": \"generalized\",\n",
    "        \"epsilon\": 1.0,\n",
    "        \"featurizer\": \"SELECT timestamp, cpu_percent, cpu_count FROM device_info.cpu_usage\",\n",
    "        \"sampler\": sampler,\n",
    "        \"aggregator\": \"median\",\n",
    "    })\n",
    "})\n",
    "qid5 = response.text"
   ]
  },
  {
   "cell_type": "code",
   "execution_count": 16,
   "metadata": {},
   "outputs": [
    {
     "data": {
      "text/plain": [
       "{'type': 'generalized',\n",
       " 'epsilon': 1.0,\n",
       " 'featurizer': 'SELECT timestamp, cpu_percent, cpu_count FROM device_info.cpu_usage',\n",
       " 'sampler': 'import pandas as pd\\nimport statsmodels.formula.api as sm\\n\\ndf = pd.DataFrame(inputs)\\nresult = sm.ols(formula=\"cpu_percent ~ timestamp\", data=df).fit()\\n\\noutputs[\"x\"] = result.params[\"timestamp\"]',\n",
       " 'aggregator': 'median',\n",
       " 'id': 'd009f316-bb21-4952-ab81-a0e0e9b635eb',\n",
       " 'status': 'COMPLETE',\n",
       " 'count': 13,\n",
       " 'result': 1.1401550791390784e-08}"
      ]
     },
     "execution_count": 16,
     "metadata": {},
     "output_type": "execute_result"
    }
   ],
   "source": [
    "loads(requests.get(\"http://127.0.0.1:3000/query/%s\" % qid5).text)"
   ]
  }
 ],
 "metadata": {
  "kernelspec": {
   "display_name": "Python 3",
   "language": "python",
   "name": "python3"
  },
  "language_info": {
   "codemirror_mode": {
    "name": "ipython",
    "version": 3
   },
   "file_extension": ".py",
   "mimetype": "text/x-python",
   "name": "python",
   "nbconvert_exporter": "python",
   "pygments_lexer": "ipython3",
   "version": "3.7.2"
  }
 },
 "nbformat": 4,
 "nbformat_minor": 2
}
