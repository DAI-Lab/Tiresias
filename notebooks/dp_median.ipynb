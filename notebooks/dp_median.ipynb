{
 "cells": [
  {
   "cell_type": "code",
   "execution_count": 23,
   "metadata": {},
   "outputs": [],
   "source": [
    "import numpy as np\n",
    "\n",
    "RETURN_VARIANCE = True\n",
    "\n",
    "def median_laplace(x, epsilon, delta=None):\n",
    "    \"\"\"\n",
    "    This function computes the differentially private estimate of the median \n",
    "    using the approach proposed in [1]. It uses the Laplace mechanism on page \n",
    "    10 and the smooth sensitivity of the median derivation found on page 12.\n",
    "    \n",
    "    The resulting value is (epsilon-delta) differentially private. By default,\n",
    "    if not specified, delta is set to `1/(100*len(x))` so that there is a 99%\n",
    "    chance that differential privacy is satisfied for any individual.\n",
    "\n",
    "    [1] http://www.cse.psu.edu/~ads22/pubs/NRS07/NRS07-full-draft-v1.pdf\n",
    "    \"\"\"\n",
    "    if not delta:\n",
    "        delta = 1.0 / (100 * len(x))\n",
    "    alpha = epsilon / 2.0\n",
    "    beta = epsilon / (2.0 * np.log(2.0 / delta))\n",
    "    \n",
    "    x = np.array(x)\n",
    "    x.sort()\n",
    "    m = (len(x) + 1) // 2\n",
    "    smooth_sensitivity = []\n",
    "    for k in range(0, len(x)-m):\n",
    "        local_sensitivity = max(x[m+t] - x[m+t-k-1] for t in range(0, k+1))\n",
    "        smooth_sensitivity.append(np.exp(-k * beta) * local_sensitivity)\n",
    "    smooth_sensitivity = max(smooth_sensitivity)\n",
    "    \n",
    "    if RETURN_VARIANCE:\n",
    "        return 2*(smooth_sensitivity/alpha)**2\n",
    "    return np.median(x) + smooth_sensitivity/alpha * np.random.laplace()\n",
    "\n",
    "def median_gaussian(x, epsilon, delta=None):\n",
    "    \"\"\"\n",
    "    This function computes the differentially private estimate of the median \n",
    "    using the approach proposed in [1]. It uses the Gaussian mechanism on page \n",
    "    10 and the smooth sensitivity of the median derivation found on page 12.\n",
    "\n",
    "    The resulting value is (epsilon-delta) differentially private. By default,\n",
    "    if not specified, delta is set to `1/(100*len(x))` so that there is a 99%\n",
    "    chance that differential privacy is satisfied for any individual.\n",
    "\n",
    "    [1] http://www.cse.psu.edu/~ads22/pubs/NRS07/NRS07-full-draft-v1.pdf\n",
    "    \"\"\"\n",
    "    if not delta:\n",
    "        delta = 1.0 / (100 * len(x))\n",
    "    alpha = epsilon / (5.0 * np.sqrt(2.0 * np.log(2.0/delta)))\n",
    "    beta = epsilon / (4.0 * (1.0 + np.log(2.0/delta)))\n",
    "    \n",
    "    x = np.array(x)\n",
    "    x.sort()\n",
    "    m = (len(x) + 1) // 2\n",
    "    smooth_sensitivity = []\n",
    "    for k in range(0, len(x)-m):\n",
    "        local_sensitivity = max(x[m+t] - x[m+t-k-1] for t in range(0, k+1))\n",
    "        smooth_sensitivity.append(np.exp(-k * beta) * local_sensitivity)\n",
    "    smooth_sensitivity = max(smooth_sensitivity)\n",
    "\n",
    "    if RETURN_VARIANCE:\n",
    "        return smooth_sensitivity/alpha\n",
    "    return np.median(x) + smooth_sensitivity/alpha * np.random.normal()"
   ]
  },
  {
   "cell_type": "code",
   "execution_count": 30,
   "metadata": {},
   "outputs": [
    {
     "data": {
      "text/plain": [
       "Text(0.5, 1.0, 'Gaussian')"
      ]
     },
     "execution_count": 30,
     "metadata": {},
     "output_type": "execute_result"
    },
    {
     "data": {
      "image/png": "[encoded data removed]",
      "text/plain": [
       "<Figure size 864x288 with 4 Axes>"
      ]
     },
     "metadata": {
      "needs_background": "light"
     },
     "output_type": "display_data"
    }
   ],
   "source": [
    "%matplotlib inline\n",
    "import matplotlib.pyplot as plt\n",
    "\n",
    "x = np.linspace(0.1, 1.0, 10)   # Epsilon ~ [0, 1]\n",
    "y = np.linspace(0.0001, 0.01, 10) # Delta = 1/(100*n) -> 99% confident it won't fail\n",
    "X, Y = np.meshgrid(x, y)\n",
    "dataset = np.random.normal(loc=0.0, scale=1.0, size=100)\n",
    "\n",
    "plt.figure(figsize=(12,4))\n",
    "\n",
    "plt.subplot(1, 2, 1)\n",
    "Z_laplace = np.zeros(X.shape)\n",
    "for i in range(X.shape[0]):\n",
    "    for j in range(X.shape[1]):\n",
    "        Z_laplace[i,j] = median_laplace(dataset, epsilon=X[i,j], delta=Y[i,j])\n",
    "CS = plt.contourf(X,Y,Z_laplace)\n",
    "plt.xlabel(\"Epsilon\")\n",
    "plt.ylabel(\"Delta\")\n",
    "plt.colorbar(CS)\n",
    "plt.gca().set_title('Laplace')\n",
    "\n",
    "plt.subplot(1, 2, 2)\n",
    "Z_gaussian = np.zeros(X.shape)\n",
    "for i in range(X.shape[0]):\n",
    "    for j in range(X.shape[1]):\n",
    "        Z_gaussian[i,j] = median_gaussian(dataset, epsilon=X[i,j], delta=Y[i,j])\n",
    "CS = plt.contourf(X,Y,Z_gaussian)\n",
    "plt.xlabel(\"Epsilon\")\n",
    "plt.ylabel(\"Delta\")\n",
    "plt.colorbar(CS)\n",
    "plt.gca().set_title('Gaussian')"
   ]
  },
  {
   "cell_type": "code",
   "execution_count": null,
   "metadata": {},
   "outputs": [],
   "source": []
  }
 ],
 "metadata": {
  "kernelspec": {
   "display_name": "Python 3",
   "language": "python",
   "name": "python3"
  },
  "language_info": {
   "codemirror_mode": {
    "name": "ipython",
    "version": 3
   },
   "file_extension": ".py",
   "mimetype": "text/x-python",
   "name": "python",
   "nbconvert_exporter": "python",
   "pygments_lexer": "ipython3",
   "version": "3.7.5"
  }
 },
 "nbformat": 4,
 "nbformat_minor": 4
}
